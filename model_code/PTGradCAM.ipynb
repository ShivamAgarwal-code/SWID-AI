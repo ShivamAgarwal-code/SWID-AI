{
  "nbformat": 4,
  "nbformat_minor": 0,
  "metadata": {
    "colab": {
      "provenance": [],
      "gpuType": "T4",
      "include_colab_link": true
    },
    "kernelspec": {
      "name": "python3",
      "display_name": "Python 3"
    },
    "language_info": {
      "name": "python"
    },
    "accelerator": "GPU"
  },
  "cells": [
    {
      "cell_type": "markdown",
      "metadata": {
        "id": "view-in-github",
        "colab_type": "text"
      },
      "source": [
        "<a href=\"https://colab.research.google.com/github/AndrewRomitti/Swida/blob/main/PTGradCAM.ipynb\" target=\"_parent\"><img src=\"https://colab.research.google.com/assets/colab-badge.svg\" alt=\"Open In Colab\"/></a>"
      ]
    },
    {
      "cell_type": "code",
      "execution_count": null,
      "metadata": {
        "id": "fdi53JojVtks"
      },
      "outputs": [],
      "source": [
        "import torch\n",
        "import torchvision"
      ]
    },
    {
      "cell_type": "code",
      "execution_count": null,
      "metadata": {
        "colab": {
          "base_uri": "https://localhost:8080/"
        },
        "id": "z9IT1Ns76ysK",
        "outputId": "87a43407-08d9-4e2c-d5d6-09e9e197a775"
      },
      "outputs": [
        {
          "output_type": "stream",
          "name": "stdout",
          "text": [
            "Mounted at /content/gdrive\n"
          ]
        }
      ],
      "source": [
        "from google.colab import drive\n",
        "drive.mount('/content/gdrive')"
      ]
    },
    {
      "cell_type": "code",
      "execution_count": null,
      "metadata": {
        "colab": {
          "base_uri": "https://localhost:8080/",
          "height": 90
        },
        "id": "27jOwlzK7Txp",
        "outputId": "5d212d8d-aa54-411c-eca5-b2fe36198f99"
      },
      "outputs": [
        {
          "output_type": "display_data",
          "data": {
            "text/plain": [
              "<IPython.core.display.HTML object>"
            ],
            "text/html": [
              "\n",
              "     <input type=\"file\" id=\"files-ec561884-883e-4d66-8eb1-4e99129aeb33\" name=\"files[]\" multiple disabled\n",
              "        style=\"border:none\" />\n",
              "     <output id=\"result-ec561884-883e-4d66-8eb1-4e99129aeb33\">\n",
              "      Upload widget is only available when the cell has been executed in the\n",
              "      current browser session. Please rerun this cell to enable.\n",
              "      </output>\n",
              "      <script>// Copyright 2017 Google LLC\n",
              "//\n",
              "// Licensed under the Apache License, Version 2.0 (the \"License\");\n",
              "// you may not use this file except in compliance with the License.\n",
              "// You may obtain a copy of the License at\n",
              "//\n",
              "//      http://www.apache.org/licenses/LICENSE-2.0\n",
              "//\n",
              "// Unless required by applicable law or agreed to in writing, software\n",
              "// distributed under the License is distributed on an \"AS IS\" BASIS,\n",
              "// WITHOUT WARRANTIES OR CONDITIONS OF ANY KIND, either express or implied.\n",
              "// See the License for the specific language governing permissions and\n",
              "// limitations under the License.\n",
              "\n",
              "/**\n",
              " * @fileoverview Helpers for google.colab Python module.\n",
              " */\n",
              "(function(scope) {\n",
              "function span(text, styleAttributes = {}) {\n",
              "  const element = document.createElement('span');\n",
              "  element.textContent = text;\n",
              "  for (const key of Object.keys(styleAttributes)) {\n",
              "    element.style[key] = styleAttributes[key];\n",
              "  }\n",
              "  return element;\n",
              "}\n",
              "\n",
              "// Max number of bytes which will be uploaded at a time.\n",
              "const MAX_PAYLOAD_SIZE = 100 * 1024;\n",
              "\n",
              "function _uploadFiles(inputId, outputId) {\n",
              "  const steps = uploadFilesStep(inputId, outputId);\n",
              "  const outputElement = document.getElementById(outputId);\n",
              "  // Cache steps on the outputElement to make it available for the next call\n",
              "  // to uploadFilesContinue from Python.\n",
              "  outputElement.steps = steps;\n",
              "\n",
              "  return _uploadFilesContinue(outputId);\n",
              "}\n",
              "\n",
              "// This is roughly an async generator (not supported in the browser yet),\n",
              "// where there are multiple asynchronous steps and the Python side is going\n",
              "// to poll for completion of each step.\n",
              "// This uses a Promise to block the python side on completion of each step,\n",
              "// then passes the result of the previous step as the input to the next step.\n",
              "function _uploadFilesContinue(outputId) {\n",
              "  const outputElement = document.getElementById(outputId);\n",
              "  const steps = outputElement.steps;\n",
              "\n",
              "  const next = steps.next(outputElement.lastPromiseValue);\n",
              "  return Promise.resolve(next.value.promise).then((value) => {\n",
              "    // Cache the last promise value to make it available to the next\n",
              "    // step of the generator.\n",
              "    outputElement.lastPromiseValue = value;\n",
              "    return next.value.response;\n",
              "  });\n",
              "}\n",
              "\n",
              "/**\n",
              " * Generator function which is called between each async step of the upload\n",
              " * process.\n",
              " * @param {string} inputId Element ID of the input file picker element.\n",
              " * @param {string} outputId Element ID of the output display.\n",
              " * @return {!Iterable<!Object>} Iterable of next steps.\n",
              " */\n",
              "function* uploadFilesStep(inputId, outputId) {\n",
              "  const inputElement = document.getElementById(inputId);\n",
              "  inputElement.disabled = false;\n",
              "\n",
              "  const outputElement = document.getElementById(outputId);\n",
              "  outputElement.innerHTML = '';\n",
              "\n",
              "  const pickedPromise = new Promise((resolve) => {\n",
              "    inputElement.addEventListener('change', (e) => {\n",
              "      resolve(e.target.files);\n",
              "    });\n",
              "  });\n",
              "\n",
              "  const cancel = document.createElement('button');\n",
              "  inputElement.parentElement.appendChild(cancel);\n",
              "  cancel.textContent = 'Cancel upload';\n",
              "  const cancelPromise = new Promise((resolve) => {\n",
              "    cancel.onclick = () => {\n",
              "      resolve(null);\n",
              "    };\n",
              "  });\n",
              "\n",
              "  // Wait for the user to pick the files.\n",
              "  const files = yield {\n",
              "    promise: Promise.race([pickedPromise, cancelPromise]),\n",
              "    response: {\n",
              "      action: 'starting',\n",
              "    }\n",
              "  };\n",
              "\n",
              "  cancel.remove();\n",
              "\n",
              "  // Disable the input element since further picks are not allowed.\n",
              "  inputElement.disabled = true;\n",
              "\n",
              "  if (!files) {\n",
              "    return {\n",
              "      response: {\n",
              "        action: 'complete',\n",
              "      }\n",
              "    };\n",
              "  }\n",
              "\n",
              "  for (const file of files) {\n",
              "    const li = document.createElement('li');\n",
              "    li.append(span(file.name, {fontWeight: 'bold'}));\n",
              "    li.append(span(\n",
              "        `(${file.type || 'n/a'}) - ${file.size} bytes, ` +\n",
              "        `last modified: ${\n",
              "            file.lastModifiedDate ? file.lastModifiedDate.toLocaleDateString() :\n",
              "                                    'n/a'} - `));\n",
              "    const percent = span('0% done');\n",
              "    li.appendChild(percent);\n",
              "\n",
              "    outputElement.appendChild(li);\n",
              "\n",
              "    const fileDataPromise = new Promise((resolve) => {\n",
              "      const reader = new FileReader();\n",
              "      reader.onload = (e) => {\n",
              "        resolve(e.target.result);\n",
              "      };\n",
              "      reader.readAsArrayBuffer(file);\n",
              "    });\n",
              "    // Wait for the data to be ready.\n",
              "    let fileData = yield {\n",
              "      promise: fileDataPromise,\n",
              "      response: {\n",
              "        action: 'continue',\n",
              "      }\n",
              "    };\n",
              "\n",
              "    // Use a chunked sending to avoid message size limits. See b/62115660.\n",
              "    let position = 0;\n",
              "    do {\n",
              "      const length = Math.min(fileData.byteLength - position, MAX_PAYLOAD_SIZE);\n",
              "      const chunk = new Uint8Array(fileData, position, length);\n",
              "      position += length;\n",
              "\n",
              "      const base64 = btoa(String.fromCharCode.apply(null, chunk));\n",
              "      yield {\n",
              "        response: {\n",
              "          action: 'append',\n",
              "          file: file.name,\n",
              "          data: base64,\n",
              "        },\n",
              "      };\n",
              "\n",
              "      let percentDone = fileData.byteLength === 0 ?\n",
              "          100 :\n",
              "          Math.round((position / fileData.byteLength) * 100);\n",
              "      percent.textContent = `${percentDone}% done`;\n",
              "\n",
              "    } while (position < fileData.byteLength);\n",
              "  }\n",
              "\n",
              "  // All done.\n",
              "  yield {\n",
              "    response: {\n",
              "      action: 'complete',\n",
              "    }\n",
              "  };\n",
              "}\n",
              "\n",
              "scope.google = scope.google || {};\n",
              "scope.google.colab = scope.google.colab || {};\n",
              "scope.google.colab._files = {\n",
              "  _uploadFiles,\n",
              "  _uploadFilesContinue,\n",
              "};\n",
              "})(self);\n",
              "</script> "
            ]
          },
          "metadata": {}
        },
        {
          "output_type": "stream",
          "name": "stdout",
          "text": [
            "Saving kaggle.json to kaggle.json\n"
          ]
        },
        {
          "output_type": "execute_result",
          "data": {
            "text/plain": [
              "{'kaggle.json': b'{\"username\":\"andrewromitti123\",\"key\":\"faac1459af0bc94cd1618c689bab8fd0\"}'}"
            ]
          },
          "metadata": {},
          "execution_count": 4
        }
      ],
      "source": [
        "from google.colab import files\n",
        "files.upload()"
      ]
    },
    {
      "cell_type": "code",
      "execution_count": null,
      "metadata": {
        "id": "qv_cNiH57nVv"
      },
      "outputs": [],
      "source": [
        "!pip install -q kaggle"
      ]
    },
    {
      "cell_type": "code",
      "execution_count": null,
      "metadata": {
        "id": "oESIoiXL7t0s"
      },
      "outputs": [],
      "source": [
        "!mkdir -p ~/.kaggle\n",
        "!cp kaggle.json ~/.kaggle/"
      ]
    },
    {
      "cell_type": "code",
      "execution_count": null,
      "metadata": {
        "id": "Y3CjGSKf7v6l"
      },
      "outputs": [],
      "source": [
        "!chmod 600 /root/.kaggle/kaggle.json"
      ]
    },
    {
      "cell_type": "code",
      "execution_count": null,
      "metadata": {
        "colab": {
          "base_uri": "https://localhost:8080/"
        },
        "id": "I7c-i_OE7xWJ",
        "outputId": "a441be2c-1ca0-4fb0-b9fa-5bceb8c53f83"
      },
      "outputs": [
        {
          "output_type": "stream",
          "name": "stdout",
          "text": [
            "Dataset URL: https://www.kaggle.com/datasets/kabil007/lungcancer4types-imagedataset\n",
            "License(s): apache-2.0\n",
            "Downloading lungcancer4types-imagedataset.zip to /content\n",
            " 92% 109M/119M [00:00<00:00, 150MB/s] \n",
            "100% 119M/119M [00:00<00:00, 152MB/s]\n"
          ]
        }
      ],
      "source": [
        "#!kaggle datasets download -d hamdallak/the-iqothnccd-lung-cancer-dataset\n",
        "!kaggle datasets download -d kabil007/lungcancer4types-imagedataset"
      ]
    },
    {
      "cell_type": "code",
      "execution_count": null,
      "metadata": {
        "id": "s6Uj3JmH8GeM"
      },
      "outputs": [],
      "source": [
        "#!unzip /content/the-iqothnccd-lung-cancer-dataset.zip > /dev/null 2>&1\n",
        "!unzip /content/lungcancer4types-imagedataset.zip > /dev/null 2>&1"
      ]
    },
    {
      "cell_type": "markdown",
      "source": [
        "# For Finetuning of the Resnet,\n",
        "\n",
        "Credit: https://github.com/Spandan-Madan/Pytorch_fine_tuning_Tutorial"
      ],
      "metadata": {
        "id": "yZ1aO2Hl52py"
      }
    },
    {
      "cell_type": "code",
      "source": [
        "data_transforms = {\n",
        "    'train': transforms.Compose([\n",
        "        transforms.Resize(256),\n",
        "        transforms.CenterCrop(224),\n",
        "        transforms.ToTensor(),\n",
        "        transforms.Normalize([0.485, 0.456, 0.406], [0.229, 0.224, 0.225])\n",
        "    ]),\n",
        "    'valid': transforms.Compose([\n",
        "        transforms.Resize(256),\n",
        "        transforms.CenterCrop(224), # Center cropping to a consistent size\n",
        "        transforms.ToTensor(),\n",
        "        transforms.Normalize([0.485, 0.456, 0.406], [0.229, 0.224, 0.225])\n",
        "    ]),\n",
        "}\n"
      ],
      "metadata": {
        "id": "t1sYO2tnWDrk"
      },
      "execution_count": null,
      "outputs": []
    },
    {
      "cell_type": "code",
      "source": [
        "import os\n",
        "\n",
        "data_dir = r'/content/Data'\n",
        "BATCH_SIZE = 16\n",
        "\n",
        "dsets = {x: datasets.ImageFolder(os.path.join(data_dir, x), data_transforms[x]) for x in ['train','valid']}\n",
        "dset_loaders = {x: torch.utils.data.DataLoader(dsets[x], batch_size=BATCH_SIZE,\n",
        "                                               shuffle=True, num_workers=25)\n",
        "                for x in ['train', 'valid']}\n",
        "dset_sizes = {x: len(dsets[x]) for x in ['train', 'valid']}\n",
        "dset_classes = dsets['train'].classes"
      ],
      "metadata": {
        "colab": {
          "base_uri": "https://localhost:8080/"
        },
        "id": "FNtnBYaPWnxb",
        "outputId": "6c593129-1135-41f1-e93e-9eca134ab7c3"
      },
      "execution_count": null,
      "outputs": [
        {
          "output_type": "stream",
          "name": "stderr",
          "text": [
            "/usr/local/lib/python3.10/dist-packages/torch/utils/data/dataloader.py:617: UserWarning: This DataLoader will create 25 worker processes in total. Our suggested max number of worker in current system is 2, which is smaller than what this DataLoader is going to create. Please be aware that excessive worker creation might get DataLoader running slow or even freeze, lower the worker number to avoid potential slowness/freeze if necessary.\n",
            "  warnings.warn(\n"
          ]
        }
      ]
    },
    {
      "cell_type": "code",
      "source": [
        "from __future__ import print_function, division\n",
        "import torch\n",
        "import torch.nn as nn\n",
        "import torch.optim as optim\n",
        "from torch.autograd import Variable\n",
        "import numpy as np\n",
        "import torchvision\n",
        "from torchvision import datasets, models, transforms\n",
        "import matplotlib.pyplot as plt\n",
        "import time\n",
        "import copy\n",
        "import os\n",
        "from PIL import ImageFile\n",
        "ImageFile.LOAD_TRUNCATED_IMAGES = True"
      ],
      "metadata": {
        "id": "ysjmqqL-XjGL"
      },
      "execution_count": null,
      "outputs": []
    },
    {
      "cell_type": "code",
      "source": [
        "# Learning rate parameters\n",
        "BASE_LR = 0.001\n",
        "EPOCH_DECAY = 10 # number of epochs after which the Learning rate is decayed exponentially.\n",
        "DECAY_WEIGHT = 0.1 # factor by which the learning rate is reduced.\n",
        "\n",
        "\n",
        "# DATASET INFO\n",
        "NUM_CLASSES = 4 # set the number of classes in your dataset\n",
        "\n",
        "# DATALOADER PROPERTIES\n",
        "BATCH_SIZE = 16 # Set as high as possible. If you keep it too high, you'll get an out of memory error.\n",
        "\n",
        "\n",
        "### GPU SETTINGS\n",
        "CUDA_DEVICE = 0 # Enter device ID of your gpu if you want to run on gpu. Otherwise neglect.\n",
        "GPU_MODE = 0 # set to 1 if want to run on gpu."
      ],
      "metadata": {
        "id": "oNZ7Waq6YH2t"
      },
      "execution_count": null,
      "outputs": []
    },
    {
      "cell_type": "code",
      "source": [
        "use_gpu = True\n",
        "if use_gpu:\n",
        "    torch.cuda.set_device(0)\n",
        "\n",
        "count=0"
      ],
      "metadata": {
        "id": "I-BuihmeXqKF"
      },
      "execution_count": null,
      "outputs": []
    },
    {
      "cell_type": "code",
      "source": [
        "def train_model(model, criterion, optimizer, lr_scheduler, num_epochs=100):\n",
        "    since = time.time()\n",
        "\n",
        "    best_model = model\n",
        "    best_acc = 0.0\n",
        "\n",
        "    for epoch in range(num_epochs):\n",
        "        print('Epoch {}/{}'.format(epoch, num_epochs - 1))\n",
        "        print('-' * 10)\n",
        "\n",
        "        # Each epoch has a training and validation phase\n",
        "        for phase in ['train', 'valid']:\n",
        "            if phase == 'train':\n",
        "                mode='train'\n",
        "                optimizer = lr_scheduler(optimizer, epoch)\n",
        "                model.train()  # Set model to training mode\n",
        "            else:\n",
        "                model.eval()\n",
        "                mode='val'\n",
        "\n",
        "            running_loss = 0.0\n",
        "            running_corrects = 0\n",
        "\n",
        "            counter=0\n",
        "            # Iterate over data.\n",
        "            for data in dset_loaders[phase]:\n",
        "                inputs, labels = data\n",
        "                # wrap them in Variable\n",
        "                if use_gpu:\n",
        "                    inputs = inputs.float().cuda()\n",
        "                    labels = labels.long().cuda()\n",
        "                else:\n",
        "                    inputs, labels = Variable(inputs), Variable(labels)\n",
        "\n",
        "                inputs, labels = Variable(inputs), Variable(labels)\n",
        "                # Set gradient to zero to delete history of computations in previous epoch. Track operations so that differentiation can be done automatically.\n",
        "                optimizer.zero_grad()\n",
        "                outputs = model(inputs)\n",
        "                _, preds = torch.max(outputs.data, 1)\n",
        "\n",
        "                loss = criterion(outputs, labels)\n",
        "                # print('loss done')\n",
        "                # Just so that you can keep track that something's happening and don't feel like the program isn't running.\n",
        "                # if counter%10==0:\n",
        "                #     print(\"Reached iteration \",counter)\n",
        "                counter+=1\n",
        "\n",
        "                # backward + optimize only if in training phase\n",
        "                if phase == 'train':\n",
        "                    # print('loss backward')\n",
        "                    loss.backward()\n",
        "                    # print('done loss backward')\n",
        "                    optimizer.step()\n",
        "                    # print('done optim')\n",
        "                # print evaluation statistics\n",
        "                try:\n",
        "                    # running_loss += loss.data[0]\n",
        "                    running_loss += loss.item()\n",
        "                    # print(labels.data)\n",
        "                    # print(preds)\n",
        "                    running_corrects += torch.sum(preds == labels.data)\n",
        "                    # print('running correct =',running_corrects)\n",
        "                except:\n",
        "                    print('unexpected error, could not calculate loss or do a sum.')\n",
        "            print('trying epoch loss')\n",
        "            epoch_loss = running_loss / dset_sizes[phase]\n",
        "            epoch_acc = running_corrects.item() / float(dset_sizes[phase])\n",
        "            print('{} Loss: {:.4f} Acc: {:.4f}'.format(\n",
        "                phase, epoch_loss, epoch_acc))\n",
        "\n",
        "\n",
        "            # deep copy the model\n",
        "            if phase == 'valid':\n",
        "                if epoch_acc > best_acc:\n",
        "                    best_acc = epoch_acc\n",
        "                    best_model = copy.deepcopy(model)\n",
        "                    print('new best accuracy = ',best_acc)\n",
        "    time_elapsed = time.time() - since\n",
        "    print('Training complete in {:.0f}m {:.0f}s'.format(\n",
        "        time_elapsed // 60, time_elapsed % 60))\n",
        "    print('Best val Acc: {:4f}'.format(best_acc))\n",
        "    print('returning and looping back')\n",
        "    return best_model\n",
        "\n",
        "# This function changes the learning rate over the training model.\n",
        "def exp_lr_scheduler(optimizer, epoch, init_lr=BASE_LR, lr_decay_epoch=EPOCH_DECAY):\n",
        "    \"\"\"Decay learning rate by a factor of DECAY_WEIGHT every lr_decay_epoch epochs.\"\"\"\n",
        "    lr = init_lr * (DECAY_WEIGHT**(epoch // lr_decay_epoch))\n",
        "\n",
        "    if epoch % lr_decay_epoch == 0:\n",
        "        print('LR is set to {}'.format(lr))\n",
        "\n",
        "    for param_group in optimizer.param_groups:\n",
        "        param_group['lr'] = lr\n",
        "\n",
        "    return optimizer"
      ],
      "metadata": {
        "id": "XSlug9V8XL66"
      },
      "execution_count": null,
      "outputs": []
    },
    {
      "cell_type": "code",
      "source": [
        "model_ft = models.resnet50(pretrained=True)\n",
        "num_ftrs = model_ft.fc.in_features\n",
        "\n",
        "model_ft.fc = nn.Linear(num_ftrs, NUM_CLASSES)\n",
        "\n",
        "\n",
        "criterion = nn.CrossEntropyLoss()\n",
        "\n",
        "if use_gpu:\n",
        "    criterion.cuda()\n",
        "    model_ft.cuda()\n",
        "\n",
        "optimizer_ft = optim.RMSprop(model_ft.parameters(), lr=0.001)\n",
        "\n",
        "\n",
        "\n",
        "# Run the functions and save the best model in the function model_ft.\n",
        "model_ft = train_model(model_ft, criterion, optimizer_ft, exp_lr_scheduler,\n",
        "                       num_epochs=50)"
      ],
      "metadata": {
        "colab": {
          "base_uri": "https://localhost:8080/"
        },
        "id": "PAR2tyu_X9m4",
        "outputId": "46e0ab15-1092-48fa-df8a-98f16e735a79"
      },
      "execution_count": null,
      "outputs": [
        {
          "output_type": "stream",
          "name": "stderr",
          "text": [
            "/usr/local/lib/python3.10/dist-packages/torchvision/models/_utils.py:208: UserWarning: The parameter 'pretrained' is deprecated since 0.13 and may be removed in the future, please use 'weights' instead.\n",
            "  warnings.warn(\n",
            "/usr/local/lib/python3.10/dist-packages/torchvision/models/_utils.py:223: UserWarning: Arguments other than a weight enum or `None` for 'weights' are deprecated since 0.13 and may be removed in the future. The current behavior is equivalent to passing `weights=ResNet50_Weights.IMAGENET1K_V1`. You can also use `weights=ResNet50_Weights.DEFAULT` to get the most up-to-date weights.\n",
            "  warnings.warn(msg)\n"
          ]
        },
        {
          "output_type": "stream",
          "name": "stdout",
          "text": [
            "Epoch 0/49\n",
            "----------\n",
            "LR is set to 0.001\n"
          ]
        },
        {
          "output_type": "stream",
          "name": "stderr",
          "text": [
            "/usr/local/lib/python3.10/dist-packages/torch/utils/data/dataloader.py:617: UserWarning: This DataLoader will create 25 worker processes in total. Our suggested max number of worker in current system is 2, which is smaller than what this DataLoader is going to create. Please be aware that excessive worker creation might get DataLoader running slow or even freeze, lower the worker number to avoid potential slowness/freeze if necessary.\n",
            "  warnings.warn(\n"
          ]
        },
        {
          "output_type": "stream",
          "name": "stdout",
          "text": [
            "trying epoch loss\n",
            "train Loss: 0.1021 Acc: 0.4095\n",
            "trying epoch loss\n",
            "valid Loss: 0.4137 Acc: 0.3194\n",
            "new best accuracy =  0.3194444444444444\n",
            "Epoch 1/49\n",
            "----------\n",
            "trying epoch loss\n",
            "train Loss: 0.0713 Acc: 0.4535\n",
            "trying epoch loss\n",
            "valid Loss: 0.0741 Acc: 0.3889\n",
            "new best accuracy =  0.3888888888888889\n",
            "Epoch 2/49\n",
            "----------\n",
            "trying epoch loss\n",
            "train Loss: 0.0606 Acc: 0.5563\n",
            "trying epoch loss\n",
            "valid Loss: 0.0711 Acc: 0.3889\n",
            "Epoch 3/49\n",
            "----------\n",
            "trying epoch loss\n",
            "train Loss: 0.0595 Acc: 0.5612\n",
            "trying epoch loss\n",
            "valid Loss: 0.0659 Acc: 0.5556\n",
            "new best accuracy =  0.5555555555555556\n",
            "Epoch 4/49\n",
            "----------\n",
            "trying epoch loss\n",
            "train Loss: 0.0574 Acc: 0.5546\n",
            "trying epoch loss\n",
            "valid Loss: 0.0837 Acc: 0.4028\n",
            "Epoch 5/49\n",
            "----------\n",
            "trying epoch loss\n",
            "train Loss: 0.0575 Acc: 0.5661\n",
            "trying epoch loss\n",
            "valid Loss: 0.0731 Acc: 0.5556\n",
            "Epoch 6/49\n",
            "----------\n",
            "trying epoch loss\n",
            "train Loss: 0.0522 Acc: 0.6101\n",
            "trying epoch loss\n",
            "valid Loss: 0.0841 Acc: 0.4722\n",
            "Epoch 7/49\n",
            "----------\n",
            "trying epoch loss\n",
            "train Loss: 0.0491 Acc: 0.6378\n",
            "trying epoch loss\n",
            "valid Loss: 0.1991 Acc: 0.3472\n",
            "Epoch 8/49\n",
            "----------\n",
            "trying epoch loss\n",
            "train Loss: 0.0476 Acc: 0.6525\n",
            "trying epoch loss\n",
            "valid Loss: 34.2055 Acc: 0.2778\n",
            "Epoch 9/49\n",
            "----------\n",
            "trying epoch loss\n",
            "train Loss: 0.0487 Acc: 0.7064\n",
            "trying epoch loss\n",
            "valid Loss: 0.0743 Acc: 0.5417\n",
            "Epoch 10/49\n",
            "----------\n",
            "LR is set to 0.0001\n",
            "trying epoch loss\n",
            "train Loss: 0.0392 Acc: 0.7537\n",
            "trying epoch loss\n",
            "valid Loss: 0.0728 Acc: 0.5417\n",
            "Epoch 11/49\n",
            "----------\n",
            "trying epoch loss\n",
            "train Loss: 0.0345 Acc: 0.7928\n",
            "trying epoch loss\n",
            "valid Loss: 0.0546 Acc: 0.7083\n",
            "new best accuracy =  0.7083333333333334\n",
            "Epoch 12/49\n",
            "----------\n",
            "trying epoch loss\n",
            "train Loss: 0.0298 Acc: 0.7945\n",
            "trying epoch loss\n",
            "valid Loss: 0.0647 Acc: 0.6667\n",
            "Epoch 13/49\n",
            "----------\n",
            "trying epoch loss\n",
            "train Loss: 0.0296 Acc: 0.8206\n",
            "trying epoch loss\n",
            "valid Loss: 0.0604 Acc: 0.5833\n",
            "Epoch 14/49\n",
            "----------\n",
            "trying epoch loss\n",
            "train Loss: 0.0254 Acc: 0.8254\n",
            "trying epoch loss\n",
            "valid Loss: 0.0575 Acc: 0.7222\n",
            "new best accuracy =  0.7222222222222222\n",
            "Epoch 15/49\n",
            "----------\n",
            "trying epoch loss\n",
            "train Loss: 0.0261 Acc: 0.8369\n",
            "trying epoch loss\n",
            "valid Loss: 0.0565 Acc: 0.7361\n",
            "new best accuracy =  0.7361111111111112\n",
            "Epoch 16/49\n",
            "----------\n",
            "trying epoch loss\n",
            "train Loss: 0.0234 Acc: 0.8581\n",
            "trying epoch loss\n",
            "valid Loss: 0.1030 Acc: 0.7361\n",
            "Epoch 17/49\n",
            "----------\n",
            "trying epoch loss\n",
            "train Loss: 0.0225 Acc: 0.8613\n"
          ]
        },
        {
          "output_type": "stream",
          "name": "stderr",
          "text": [
            "Exception ignored in: <function _ConnectionBase.__del__ at 0x791028894550>\n",
            "Traceback (most recent call last):\n",
            "  File \"/usr/lib/python3.10/multiprocessing/connection.py\", line 132, in __del__\n",
            "Traceback (most recent call last):\n",
            "  File \"/usr/lib/python3.10/multiprocessing/queues.py\", line 239, in _feed\n",
            "    reader_close()\n",
            "  File \"/usr/lib/python3.10/multiprocessing/connection.py\", line 177, in close\n",
            "    self._close()\n",
            "  File \"/usr/lib/python3.10/multiprocessing/connection.py\", line 361, in _close\n",
            "    _close(self._handle)\n",
            "OSError: [Errno 9] Bad file descriptor\n",
            "Traceback (most recent call last):\n",
            "    self._close()\n",
            "  File \"/usr/lib/python3.10/multiprocessing/connection.py\", line 361, in _close\n",
            "    _close(self._handle)\n",
            "OSError: [Errno 9] Bad file descriptor\n",
            "  File \"/usr/lib/python3.10/multiprocessing/queues.py\", line 250, in _feed\n",
            "    send_bytes(obj)\n",
            "  File \"/usr/lib/python3.10/multiprocessing/connection.py\", line 200, in send_bytes\n",
            "    self._send_bytes(m[offset:offset + size])\n",
            "  File \"/usr/lib/python3.10/multiprocessing/connection.py\", line 411, in _send_bytes\n",
            "    self._send(header + buf)\n",
            "  File \"/usr/lib/python3.10/multiprocessing/connection.py\", line 368, in _send\n",
            "    n = write(self._handle, buf)\n",
            "OSError: [Errno 9] Bad file descriptor\n",
            "Exception in thread QueueFeederThread:\n",
            "Traceback (most recent call last):\n",
            "  File \"/usr/lib/python3.10/multiprocessing/queues.py\", line 239, in _feed\n",
            "    reader_close()\n",
            "  File \"/usr/lib/python3.10/multiprocessing/connection.py\", line 177, in close\n",
            "    self._close()\n",
            "  File \"/usr/lib/python3.10/multiprocessing/connection.py\", line 361, in _close\n",
            "    _close(self._handle)\n",
            "OSError: [Errno 9] Bad file descriptor\n",
            "\n",
            "During handling of the above exception, another exception occurred:\n",
            "\n",
            "Traceback (most recent call last):\n",
            "  File \"/usr/lib/python3.10/threading.py\", line 1016, in _bootstrap_inner\n",
            "    self.run()\n",
            "  File \"/usr/lib/python3.10/threading.py\", line 953, in run\n",
            "    self._target(*self._args, **self._kwargs)\n",
            "  File \"/usr/lib/python3.10/multiprocessing/queues.py\", line 271, in _feed\n",
            "    queue_sem.release()\n",
            "ValueError: semaphore or lock released too many times\n"
          ]
        },
        {
          "output_type": "stream",
          "name": "stdout",
          "text": [
            "trying epoch loss\n",
            "valid Loss: 0.0785 Acc: 0.6250\n",
            "Epoch 18/49\n",
            "----------\n",
            "trying epoch loss\n",
            "train Loss: 0.0185 Acc: 0.9005\n",
            "trying epoch loss\n",
            "valid Loss: 0.0858 Acc: 0.6250\n",
            "Epoch 19/49\n",
            "----------\n",
            "trying epoch loss\n",
            "train Loss: 0.0173 Acc: 0.8923\n",
            "trying epoch loss\n",
            "valid Loss: 0.0773 Acc: 0.5972\n",
            "Epoch 20/49\n",
            "----------\n",
            "LR is set to 1.0000000000000003e-05\n",
            "trying epoch loss\n",
            "train Loss: 0.0156 Acc: 0.9250\n",
            "trying epoch loss\n",
            "valid Loss: 0.0510 Acc: 0.7361\n",
            "Epoch 21/49\n",
            "----------\n",
            "trying epoch loss\n",
            "train Loss: 0.0150 Acc: 0.9135\n",
            "trying epoch loss\n",
            "valid Loss: 0.0644 Acc: 0.6944\n",
            "Epoch 22/49\n",
            "----------\n",
            "trying epoch loss\n",
            "train Loss: 0.0132 Acc: 0.9347\n",
            "trying epoch loss\n",
            "valid Loss: 0.0591 Acc: 0.7778\n",
            "new best accuracy =  0.7777777777777778\n",
            "Epoch 23/49\n",
            "----------\n",
            "trying epoch loss\n",
            "train Loss: 0.0149 Acc: 0.9315\n",
            "trying epoch loss\n",
            "valid Loss: 0.0556 Acc: 0.7778\n",
            "Epoch 24/49\n",
            "----------\n",
            "trying epoch loss\n",
            "train Loss: 0.0122 Acc: 0.9380\n",
            "trying epoch loss\n",
            "valid Loss: 0.0544 Acc: 0.7917\n",
            "new best accuracy =  0.7916666666666666\n",
            "Epoch 25/49\n",
            "----------\n",
            "trying epoch loss\n",
            "train Loss: 0.0185 Acc: 0.9201\n",
            "trying epoch loss\n",
            "valid Loss: 0.0573 Acc: 0.7500\n",
            "Epoch 26/49\n",
            "----------\n",
            "trying epoch loss\n",
            "train Loss: 0.0109 Acc: 0.9445\n",
            "trying epoch loss\n",
            "valid Loss: 0.0590 Acc: 0.7361\n",
            "Epoch 27/49\n",
            "----------\n",
            "trying epoch loss\n",
            "train Loss: 0.0122 Acc: 0.9380\n",
            "trying epoch loss\n",
            "valid Loss: 0.0561 Acc: 0.7778\n",
            "Epoch 28/49\n",
            "----------\n",
            "trying epoch loss\n",
            "train Loss: 0.0104 Acc: 0.9429\n",
            "trying epoch loss\n",
            "valid Loss: 0.0688 Acc: 0.7222\n",
            "Epoch 29/49\n",
            "----------\n",
            "trying epoch loss\n",
            "train Loss: 0.0106 Acc: 0.9429\n",
            "trying epoch loss\n",
            "valid Loss: 0.0618 Acc: 0.7639\n",
            "Epoch 30/49\n",
            "----------\n",
            "LR is set to 1.0000000000000002e-06\n",
            "trying epoch loss\n",
            "train Loss: 0.0109 Acc: 0.9478\n",
            "trying epoch loss\n",
            "valid Loss: 0.0650 Acc: 0.6806\n",
            "Epoch 31/49\n",
            "----------\n",
            "trying epoch loss\n",
            "train Loss: 0.0096 Acc: 0.9511\n",
            "trying epoch loss\n",
            "valid Loss: 0.0627 Acc: 0.7222\n",
            "Epoch 32/49\n",
            "----------\n",
            "trying epoch loss\n",
            "train Loss: 0.0081 Acc: 0.9657\n",
            "trying epoch loss\n",
            "valid Loss: 0.0597 Acc: 0.7639\n",
            "Epoch 33/49\n",
            "----------\n",
            "trying epoch loss\n",
            "train Loss: 0.0085 Acc: 0.9674\n",
            "trying epoch loss\n",
            "valid Loss: 0.0627 Acc: 0.7778\n",
            "Epoch 34/49\n",
            "----------\n",
            "trying epoch loss\n",
            "train Loss: 0.0108 Acc: 0.9462\n",
            "trying epoch loss\n",
            "valid Loss: 0.0628 Acc: 0.7500\n",
            "Epoch 35/49\n",
            "----------\n",
            "trying epoch loss\n",
            "train Loss: 0.0100 Acc: 0.9511\n",
            "trying epoch loss\n",
            "valid Loss: 0.0611 Acc: 0.7500\n",
            "Epoch 36/49\n",
            "----------\n",
            "trying epoch loss\n",
            "train Loss: 0.0118 Acc: 0.9413\n",
            "trying epoch loss\n",
            "valid Loss: 0.0608 Acc: 0.7778\n",
            "Epoch 37/49\n",
            "----------\n",
            "trying epoch loss\n",
            "train Loss: 0.0107 Acc: 0.9445\n",
            "trying epoch loss\n",
            "valid Loss: 0.0600 Acc: 0.7917\n",
            "Epoch 38/49\n",
            "----------\n",
            "trying epoch loss\n",
            "train Loss: 0.0105 Acc: 0.9462\n",
            "trying epoch loss\n",
            "valid Loss: 0.0595 Acc: 0.7639\n",
            "Epoch 39/49\n",
            "----------\n",
            "trying epoch loss\n",
            "train Loss: 0.0092 Acc: 0.9511\n",
            "trying epoch loss\n",
            "valid Loss: 0.0585 Acc: 0.7639\n",
            "Epoch 40/49\n",
            "----------\n",
            "LR is set to 1.0000000000000002e-07\n",
            "trying epoch loss\n",
            "train Loss: 0.0113 Acc: 0.9315\n",
            "trying epoch loss\n",
            "valid Loss: 0.0661 Acc: 0.7639\n",
            "Epoch 41/49\n",
            "----------\n",
            "trying epoch loss\n",
            "train Loss: 0.0110 Acc: 0.9413\n",
            "trying epoch loss\n",
            "valid Loss: 0.0575 Acc: 0.7778\n",
            "Epoch 42/49\n",
            "----------\n",
            "trying epoch loss\n",
            "train Loss: 0.0093 Acc: 0.9625\n",
            "trying epoch loss\n",
            "valid Loss: 0.0682 Acc: 0.7500\n",
            "Epoch 43/49\n",
            "----------\n",
            "trying epoch loss\n",
            "train Loss: 0.0107 Acc: 0.9429\n",
            "trying epoch loss\n",
            "valid Loss: 0.0629 Acc: 0.7639\n",
            "Epoch 44/49\n",
            "----------\n",
            "trying epoch loss\n",
            "train Loss: 0.0097 Acc: 0.9527\n",
            "trying epoch loss\n",
            "valid Loss: 0.0663 Acc: 0.7639\n",
            "Epoch 45/49\n",
            "----------\n",
            "trying epoch loss\n",
            "train Loss: 0.0113 Acc: 0.9478\n",
            "trying epoch loss\n",
            "valid Loss: 0.0623 Acc: 0.7778\n",
            "Epoch 46/49\n",
            "----------\n",
            "trying epoch loss\n",
            "train Loss: 0.0116 Acc: 0.9429\n",
            "trying epoch loss\n",
            "valid Loss: 0.0577 Acc: 0.7917\n",
            "Epoch 47/49\n",
            "----------\n",
            "trying epoch loss\n",
            "train Loss: 0.0110 Acc: 0.9429\n",
            "trying epoch loss\n",
            "valid Loss: 0.0626 Acc: 0.7361\n",
            "Epoch 48/49\n",
            "----------\n",
            "trying epoch loss\n",
            "train Loss: 0.0105 Acc: 0.9462\n",
            "trying epoch loss\n",
            "valid Loss: 0.0673 Acc: 0.7083\n",
            "Epoch 49/49\n",
            "----------\n",
            "trying epoch loss\n",
            "train Loss: 0.0097 Acc: 0.9413\n",
            "trying epoch loss\n",
            "valid Loss: 0.0608 Acc: 0.7222\n",
            "Training complete in 13m 32s\n",
            "Best val Acc: 0.791667\n",
            "returning and looping back\n"
          ]
        }
      ]
    },
    {
      "cell_type": "code",
      "source": [
        "torch.save(model_ft.state_dict(),'/content/model_ft_3.pt')"
      ],
      "metadata": {
        "id": "AT1hxHBQYO59"
      },
      "execution_count": null,
      "outputs": []
    },
    {
      "cell_type": "markdown",
      "source": [
        "# GradCam"
      ],
      "metadata": {
        "id": "sp0djPV15t36"
      }
    },
    {
      "cell_type": "code",
      "source": [
        "!pip install grad-cam"
      ],
      "metadata": {
        "id": "cm9ftUiiVy7c"
      },
      "execution_count": null,
      "outputs": []
    },
    {
      "cell_type": "code",
      "source": [
        "from pytorch_grad_cam import GradCAM, HiResCAM, ScoreCAM, GradCAMPlusPlus, AblationCAM, XGradCAM, EigenCAM, FullGrad\n",
        "from pytorch_grad_cam.utils.model_targets import ClassifierOutputTarget\n",
        "from pytorch_grad_cam.utils.image import show_cam_on_image\n",
        "from torchvision.models import resnet50\n",
        "import torch.nn as nn\n",
        "from torchvision import datasets, models, transforms"
      ],
      "metadata": {
        "id": "hPwB7frtV15X"
      },
      "execution_count": null,
      "outputs": []
    },
    {
      "cell_type": "code",
      "source": [
        "model = resnet50(pretrained=True)\n",
        "#model = models.VGG16(pretrained=True)\n",
        "num_ftrs = model.fc.in_features\n",
        "model.fc = nn.Linear(num_ftrs, 4)\n",
        "\n",
        "state_dict = torch.load('/content/gdrive/MyDrive/model_ft_3.pt')\n",
        "model.load_state_dict(state_dict)\n",
        "\n",
        "target_layers = [model.layer4[-1]]\n",
        "#target_layers = model.features[-1]"
      ],
      "metadata": {
        "colab": {
          "base_uri": "https://localhost:8080/"
        },
        "id": "1gYiJCvVmCIB",
        "outputId": "38af87c5-f08a-48bf-dfb2-67adad357923"
      },
      "execution_count": null,
      "outputs": [
        {
          "output_type": "stream",
          "name": "stderr",
          "text": [
            "<ipython-input-165-c863a6f4549d>:6: FutureWarning: You are using `torch.load` with `weights_only=False` (the current default value), which uses the default pickle module implicitly. It is possible to construct malicious pickle data which will execute arbitrary code during unpickling (See https://github.com/pytorch/pytorch/blob/main/SECURITY.md#untrusted-models for more details). In a future release, the default value for `weights_only` will be flipped to `True`. This limits the functions that could be executed during unpickling. Arbitrary objects will no longer be allowed to be loaded via this mode unless they are explicitly allowlisted by the user via `torch.serialization.add_safe_globals`. We recommend you start setting `weights_only=True` for any use case where you don't have full control of the loaded file. Please open an issue on GitHub for any issues related to this experimental feature.\n",
            "  state_dict = torch.load('/content/gdrive/MyDrive/model_ft_3.pt')\n"
          ]
        }
      ]
    },
    {
      "cell_type": "code",
      "source": [],
      "metadata": {
        "id": "tX8fa_67no_f"
      },
      "execution_count": null,
      "outputs": []
    },
    {
      "cell_type": "code",
      "source": [
        "from PIL import Image\n",
        "\n",
        "\n",
        "#image = Image.open('/content/Data/train/adenocarcinoma_left.lower.lobe_T2_N0_M0_Ib/000005 (9).png')\n",
        "#image = Image.open('/content/Data/train/squamous.cell.carcinoma_left.hilum_T1_N2_M0_IIIa/000002 (6).png')\n",
        "image = Image.open('/content/Data/train/squamous.cell.carcinoma_left.hilum_T1_N2_M0_IIIa/000013 (6).png')\n",
        "image = image.convert('RGB')\n",
        "rgb_img = image.resize((224, 224))\n",
        "\n",
        "rgb_img = np.array(rgb_img).astype(np.float32) / 255.0\n",
        "\n",
        "transform1 = transforms.Resize((224,224))\n",
        "transform2 = transforms.ToTensor()\n",
        "input_tensor = transform1(image)\n",
        "input_tensor = transform2(input_tensor).cpu().unsqueeze(0)\n",
        "\n",
        "min_val = input_tensor.min()\n",
        "max_val = input_tensor.max()\n",
        "normalized_tensor = (input_tensor - min_val) / (max_val - min_val)\n",
        "input_tensor = normalized_tensor.type(torch.float32)\n",
        "\n",
        "#numpy_image = transform(image).cpu().numpy()\n",
        "\n",
        "#input_tensor = (numpy_image - numpy_image.min()) / (numpy_image.max() - numpy_image.min())\n",
        "\n",
        "print(input_tensor.shape)\n",
        "print(input_tensor.min())\n",
        "print(input_tensor.max())\n",
        "print(input_tensor.dtype)"
      ],
      "metadata": {
        "colab": {
          "base_uri": "https://localhost:8080/"
        },
        "id": "0HZjSYNumNyb",
        "outputId": "3a0ab8a5-762e-4df6-dabd-1459f2f09dd6"
      },
      "execution_count": null,
      "outputs": [
        {
          "output_type": "stream",
          "name": "stdout",
          "text": [
            "torch.Size([1, 3, 224, 224])\n",
            "tensor(0.)\n",
            "tensor(1.)\n",
            "torch.float32\n"
          ]
        }
      ]
    },
    {
      "cell_type": "code",
      "source": [
        "print(dsets['valid'].classes)"
      ],
      "metadata": {
        "colab": {
          "base_uri": "https://localhost:8080/"
        },
        "id": "sgfzwVnN1dOm",
        "outputId": "48589f47-f92f-4334-9bf2-d3b632a6270c"
      },
      "execution_count": null,
      "outputs": [
        {
          "output_type": "stream",
          "name": "stdout",
          "text": [
            "['adenocarcinoma_left.lower.lobe_T2_N0_M0_Ib', 'large.cell.carcinoma_left.hilum_T2_N2_M0_IIIa', 'normal', 'squamous.cell.carcinoma_left.hilum_T1_N2_M0_IIIa']\n"
          ]
        }
      ]
    },
    {
      "cell_type": "code",
      "source": [
        "from PIL import Image\n",
        "\n",
        "targets = [ClassifierOutputTarget(2)]\n",
        "\n",
        "with GradCAMPlusPlus(model=model, target_layers=target_layers) as cam:\n",
        "  # You can also pass aug_smooth=True and eigen_smooth=True, to apply smoothing.\n",
        "  grayscale_cam = cam(input_tensor=input_tensor, targets=targets)\n",
        "  # In this example grayscale_cam has only one image in the batch:\n",
        "  grayscale_cam = grayscale_cam[0, :]\n",
        "  visualization = show_cam_on_image(rgb_img, grayscale_cam, use_rgb=True)\n",
        "  # You can also get the model outputs without having to redo inference\n",
        "  model_outputs = cam.outputs"
      ],
      "metadata": {
        "id": "JnbtRyh6dVW-"
      },
      "execution_count": null,
      "outputs": []
    },
    {
      "cell_type": "code",
      "source": [
        "img = Image.fromarray(visualization)\n",
        "img.save('cam.png')"
      ],
      "metadata": {
        "id": "Hpxa9CIy5Uzq"
      },
      "execution_count": null,
      "outputs": []
    },
    {
      "cell_type": "code",
      "source": [],
      "metadata": {
        "id": "DdiLNIk1pJ9X"
      },
      "execution_count": null,
      "outputs": []
    }
  ]
}